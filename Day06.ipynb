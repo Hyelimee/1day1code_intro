{
  "nbformat": 4,
  "nbformat_minor": 0,
  "metadata": {
    "colab": {
      "provenance": [],
      "authorship_tag": "ABX9TyOe72G9Y5i9mCbJZvazDYkX",
      "include_colab_link": true
    },
    "kernelspec": {
      "name": "python3",
      "display_name": "Python 3"
    },
    "language_info": {
      "name": "python"
    }
  },
  "cells": [
    {
      "cell_type": "markdown",
      "metadata": {
        "id": "view-in-github",
        "colab_type": "text"
      },
      "source": [
        "<a href=\"https://colab.research.google.com/github/Hyelimee/1day1code_intro/blob/main/Day06.ipynb\" target=\"_parent\"><img src=\"https://colab.research.google.com/assets/colab-badge.svg\" alt=\"Open In Colab\"/></a>"
      ]
    },
    {
      "cell_type": "code",
      "execution_count": null,
      "metadata": {
        "id": "0NgT3-S5DZK-"
      },
      "outputs": [],
      "source": [
        "'''\n",
        "Q.나무조각 다섯개에 1~5 숫자 중 하나가 쓰여져 있다. (중복 x)\n",
        "  나무조각을 다음과 같은 과정을 거쳐 1, 2, 3, 4, 5 순서로 만들려고 한다.\n",
        "  1. 첫번째 조각의 수가 두번째 수 보다 크다면 둘의 위치를 서로 바꾼다\n",
        "  2. 두번째 조각의 수가 세번째 수보다 크다면 둘의 위치를 서로 바꾼다\n",
        "  3. 세번째 조각의 수가 네번째 수보다 크다면 둘의 위치를 서로 바꾼다\n",
        "  4. 네번째 조각의 수가 다섯번째 수보다 크다면, 둘의 위치를 서로 바꾼다.\n",
        "  5. 만약 순서가 1, 2, 3, 4, 5 순서가 아니라면 1단계로 다시 간다.\n",
        "\n",
        "input : 첫째 줄에 조각에 쓰여있는 수가 순서대로 주어진다\n",
        "output : 두 조각의 순서가 바뀔때마다 조각의 순서를 출력한다\n",
        "'''"
      ]
    },
    {
      "cell_type": "code",
      "source": [
        "arr = input()                                           # 나무조각 숫자 입력받기\n",
        "\n",
        "arr1 = list(map(int, arr.split(' ')))                   # 나무조각 숫자 정리(리스트화)\n",
        "\n",
        "while arr1 != [1, 2, 3, 4, 5]:                          # 조건 5, [1, 2, 3, 4, 5] 될때까지 계속 실행\n",
        "    for i in range(4):\n",
        "        if arr1[i] > arr1[i+1]:                         # 1~4번의 조건에 충족한다면\n",
        "            arr1[i], arr1[i+1] = arr1[i+1], arr1[i]     # 둘의 위치를 서로 바꿈\n",
        "            print(*arr1)                                # 바뀐 후 조각의 순서 출력"
      ],
      "metadata": {
        "colab": {
          "base_uri": "https://localhost:8080/"
        },
        "id": "MiLTAWWSq_vN",
        "outputId": "ef471656-aa7f-47c3-88a6-b27e0912bc25"
      },
      "execution_count": 27,
      "outputs": [
        {
          "output_type": "stream",
          "name": "stdout",
          "text": [
            "5 4 3 2 1\n",
            "4 5 3 2 1\n",
            "4 3 5 2 1\n",
            "4 3 2 5 1\n",
            "4 3 2 1 5\n",
            "3 4 2 1 5\n",
            "3 2 4 1 5\n",
            "3 2 1 4 5\n",
            "2 3 1 4 5\n",
            "2 1 3 4 5\n",
            "1 2 3 4 5\n"
          ]
        }
      ]
    }
  ]
}