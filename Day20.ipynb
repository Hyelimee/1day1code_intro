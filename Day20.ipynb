{
  "nbformat": 4,
  "nbformat_minor": 0,
  "metadata": {
    "colab": {
      "provenance": [],
      "authorship_tag": "ABX9TyOPWPY+a6Dlp1utWpwdYlKQ",
      "include_colab_link": true
    },
    "kernelspec": {
      "name": "python3",
      "display_name": "Python 3"
    },
    "language_info": {
      "name": "python"
    }
  },
  "cells": [
    {
      "cell_type": "markdown",
      "metadata": {
        "id": "view-in-github",
        "colab_type": "text"
      },
      "source": [
        "<a href=\"https://colab.research.google.com/github/Hyelimee/1day1code_intro/blob/main/Day20.ipynb\" target=\"_parent\"><img src=\"https://colab.research.google.com/assets/colab-badge.svg\" alt=\"Open In Colab\"/></a>"
      ]
    },
    {
      "cell_type": "markdown",
      "source": [
        "'''\n",
        "Q. N이 주어졌을 때, N자리 이친수의 개수를 구하라\n",
        "[조건 및 설명]\n",
        "- 0과 1로만 이루어진 수를 이진수라 한다\n",
        "- 이진수 중 특별한 성질을 갖는 것들을 이친수라고 한다\n",
        "- 이친수는 0으로 시작하지 않는다\n",
        "- 이친수는 1이 두번 연속으로 나타나지 않는다(11을 부분 문자열로 갖지 않는다)\n",
        "\n",
        ">\n",
        "- input : 첫째 줄에 N이 주어진다\n",
        "- output : 첫째 줄에 N자리 이친수의 개수를 출력한다\n",
        "'''"
      ],
      "metadata": {
        "id": "QOZgpk7O1nOd"
      }
    },
    {
      "cell_type": "code",
      "source": [
        "#메모리초과\n",
        "\n",
        "N = int(input())  #자릿수\n",
        "\n",
        "#자리수에 따라 만들수 있는 최고 높은 숫자를 구함\n",
        "max_sum = 0\n",
        "for i in range(N):\n",
        "    sums = 1*(2**i)\n",
        "    max_sum += sums\n",
        "#print(max_sum)\n",
        "\n",
        "\n",
        "#세자리수인 모든 이진수 구하기\n",
        "binary = []\n",
        "for i in range(max_sum):\n",
        "    a = format(i, 'b')\n",
        "    if len(a) >= N:\n",
        "        binary.append(a)\n",
        "print(binary)\n",
        "\n",
        "\n",
        "#조건 걸기\n",
        "for i in binary:\n",
        "    if '11' in i:\n",
        "        binary.remove(i)\n",
        "\n",
        "print(len(binary))"
      ],
      "metadata": {
        "id": "FbNiT6IbiHzl"
      },
      "execution_count": null,
      "outputs": []
    },
    {
      "cell_type": "code",
      "execution_count": null,
      "metadata": {
        "colab": {
          "base_uri": "https://localhost:8080/"
        },
        "id": "FFCmflt41fu1",
        "outputId": "43216258-8771-471d-b4b4-52f4aa2d84be"
      },
      "outputs": [
        {
          "output_type": "stream",
          "name": "stdout",
          "text": [
            "3\n",
            "2\n"
          ]
        }
      ],
      "source": [
        "# 시간초과\n",
        "\n",
        "N = int(input())  #자릿수\n",
        "\n",
        "#자리수에 따라 만들수 있는 최고 높은 숫자를 구함\n",
        "max_sum = 0\n",
        "for i in range(N):\n",
        "    sums = 1*(2**i)\n",
        "    max_sum += sums\n",
        "#print(max_sum)\n",
        "\n",
        "\n",
        "#세자리수인 모든 이진수 구하기\n",
        "binary = []\n",
        "for i in range(max_sum):\n",
        "    a = format(i, 'b')\n",
        "    if len(a) >= N:\n",
        "        if '11' not in a:\n",
        "            binary.append(a)\n",
        "print(len(binary))"
      ]
    },
    {
      "cell_type": "code",
      "source": [
        "#시간초과\n",
        "\n",
        "N = int(input())  #자릿수\n",
        "\n",
        "binary = 0\n",
        "\n",
        "for i in range(2**N):\n",
        "    a = format(i, 'b')\n",
        "    if len(a) < N:\n",
        "        continue\n",
        "    if '11' in a:\n",
        "        continue\n",
        "    binary += 1\n",
        "    #print(a)\n",
        "\n",
        "print(binary)"
      ],
      "metadata": {
        "colab": {
          "base_uri": "https://localhost:8080/"
        },
        "id": "AfXZ8mfU44sK",
        "outputId": "bd75fa23-d5a7-4424-887a-28598cdc11ae"
      },
      "execution_count": null,
      "outputs": [
        {
          "output_type": "stream",
          "name": "stdout",
          "text": [
            "6\n",
            "8\n"
          ]
        }
      ]
    },
    {
      "cell_type": "code",
      "source": [
        "#DP풀이\n",
        "\n",
        "N = int(input())\n",
        "\n",
        "a = [0, 1]  #값을 아는 데이터는 미리 저장\n",
        "\n",
        "for i in range(2, N+1):\n",
        "    a.append(a[i-1]+a[i-2])  #전값 + 전전값 더하여 리스트에 추가\n",
        "\n",
        "print(a[N])\n",
        "\n",
        "#하.. 이렇게 쉬운걸.."
      ],
      "metadata": {
        "colab": {
          "base_uri": "https://localhost:8080/"
        },
        "id": "hTz88tLuoYLb",
        "outputId": "7d1b924f-8cc8-4d8d-9f94-64554e342f67"
      },
      "execution_count": null,
      "outputs": [
        {
          "output_type": "stream",
          "name": "stdout",
          "text": [
            "5\n",
            "5\n"
          ]
        }
      ]
    }
  ]
}