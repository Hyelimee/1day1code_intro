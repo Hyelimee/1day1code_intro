{
  "nbformat": 4,
  "nbformat_minor": 0,
  "metadata": {
    "colab": {
      "provenance": [],
      "authorship_tag": "ABX9TyM6lzUbn2BlaQHcsKoMBvs/",
      "include_colab_link": true
    },
    "kernelspec": {
      "name": "python3",
      "display_name": "Python 3"
    },
    "language_info": {
      "name": "python"
    }
  },
  "cells": [
    {
      "cell_type": "markdown",
      "metadata": {
        "id": "view-in-github",
        "colab_type": "text"
      },
      "source": [
        "<a href=\"https://colab.research.google.com/github/Hyelimee/1day1code_intro/blob/main/Day09.ipynb\" target=\"_parent\"><img src=\"https://colab.research.google.com/assets/colab-badge.svg\" alt=\"Open In Colab\"/></a>"
      ]
    },
    {
      "cell_type": "markdown",
      "source": [
        "피보나치 수열\n",
        "- 0 : 0\n",
        "- 1 : 1\n",
        "- 2 : 0+1\n",
        "- 3 : 1+(0+1)\n",
        "- 4 : 2+3=(0+1)+1+(0+1)\n",
        "- 5 : 3+4=1+(0+1)+(0+1)+1+(0+1)\n",
        "- ...\n",
        "\n",
        "- input : 첫째 줄에 n이 주어진다 n은 90보다 작거나 같은 자연수이다\n",
        "- output : 첫째 줄에 n번째 피보나치 수를 출력한다\n"
      ],
      "metadata": {
        "id": "z7k-ArjkPueI"
      }
    },
    {
      "cell_type": "code",
      "source": [
        "n = int(input())\n",
        "\n",
        "a = [0, 1]  #값을 아는 데이터는 미리 저장\n",
        "\n",
        "for i in range(2, n+1):\n",
        "    a.append(a[i-1]+a[i-2])  #전값 + 전전값 더하여 리스트에 추가\n",
        "\n",
        "print(a[n])"
      ],
      "metadata": {
        "colab": {
          "base_uri": "https://localhost:8080/"
        },
        "id": "cdAXYK_INeJ-",
        "outputId": "834cde6c-6e62-4f58-d742-5422e63951f2"
      },
      "execution_count": 2,
      "outputs": [
        {
          "output_type": "stream",
          "name": "stdout",
          "text": [
            "10\n",
            "55\n"
          ]
        }
      ]
    }
  ]
}