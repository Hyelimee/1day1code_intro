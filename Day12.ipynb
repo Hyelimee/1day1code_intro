{
  "nbformat": 4,
  "nbformat_minor": 0,
  "metadata": {
    "colab": {
      "provenance": [],
      "authorship_tag": "ABX9TyMoOMzog/Z8Rn50QPDxgci/",
      "include_colab_link": true
    },
    "kernelspec": {
      "name": "python3",
      "display_name": "Python 3"
    },
    "language_info": {
      "name": "python"
    }
  },
  "cells": [
    {
      "cell_type": "markdown",
      "metadata": {
        "id": "view-in-github",
        "colab_type": "text"
      },
      "source": [
        "<a href=\"https://colab.research.google.com/github/Hyelimee/1day1code_intro/blob/main/Day12.ipynb\" target=\"_parent\"><img src=\"https://colab.research.google.com/assets/colab-badge.svg\" alt=\"Open In Colab\"/></a>"
      ]
    },
    {
      "cell_type": "markdown",
      "source": [
        "Q. 정수 N이 주어졌을 때, 다음과 같은 연산 세개를 적절히 사용하여 1을 만들려고 한다. 연산을 사용하는 횟수의 최솟값을 출력하라\n",
        "\n",
        "[연산]\n",
        "1. X가 3으로 나누어 떨어지면, 3으로 나눈다\n",
        "2. X가 2로 나누어 떨어지면, 2로 나눈다\n",
        "3. 1을 뺀다\n",
        "\n",
        "- input: 첫째 줄에 1보다 크거나 같고, 10^6보다 작거나 같은 정수 N이 주어진다\n",
        "- output : 첫째 줄에 연산을 하는 횟수의 최솟값을 출력한다\n",
        "\n",
        "*힌트 : 10의 경우에 10->9->3->1 로 세번만에 만들 수 있다."
      ],
      "metadata": {
        "id": "tgS2BoxG68dQ"
      }
    },
    {
      "cell_type": "markdown",
      "source": [
        "- 주어진 수에서 연산하는 방법으로 풀면 풀이가 여러갈래로 나뉘면서 많은 연산을 해야함\n",
        "- 숫자를 1부터 연산해보면서 가장 빠른 루트를 찾아보기\n"
      ],
      "metadata": {
        "id": "DNnieIFh21jq"
      }
    },
    {
      "cell_type": "code",
      "execution_count": 2,
      "metadata": {
        "colab": {
          "base_uri": "https://localhost:8080/"
        },
        "id": "N6D2e6X265c_",
        "outputId": "84d0586c-3168-4517-d9cb-2a9478ebc1d5"
      },
      "outputs": [
        {
          "output_type": "stream",
          "name": "stdout",
          "text": [
            "10\n",
            "3\n"
          ]
        }
      ],
      "source": [
        "N = int(input())  #입력값 받기\n",
        "\n",
        "dp = [0] * (N + 1)   #연산횟수를 저장하기 위한 리스트\n",
        "\n",
        "dp[1] = 0   #값이 1일때, 연산횟수는 0\n",
        "\n",
        "for i in range(2, N+1):\n",
        "    dp[i] = dp[i - 1] + 1  #일단 조건 없이 항상 가능한 방법 계산\n",
        "    if i % 2 == 0:\n",
        "        dp[i] = min(dp[i], dp[i // 2] + 1)  #-1 방법과 /2 방법 비교 -> 둘 중 값 작은거 선택\n",
        "    if i % 3 == 0:\n",
        "        dp[i] = min(dp[i], dp[i // 3] + 1)  #/2 조건에서 선택한 값과 /3 방법 비교 -> 둘 중 값 작은거 선택\n",
        "\n",
        "print(dp[N])"
      ]
    }
  ]
}